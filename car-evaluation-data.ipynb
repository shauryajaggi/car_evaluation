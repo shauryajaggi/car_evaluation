{
 "cells": [
  {
   "cell_type": "code",
   "execution_count": 1,
   "id": "acd464cf",
   "metadata": {
    "_cell_guid": "b1076dfc-b9ad-4769-8c92-a6c4dae69d19",
    "_uuid": "8f2839f25d086af736a60e9eeb907d3b93b6e0e5",
    "execution": {
     "iopub.execute_input": "2021-10-20T04:54:09.153552Z",
     "iopub.status.busy": "2021-10-20T04:54:09.152997Z",
     "iopub.status.idle": "2021-10-20T04:54:09.941546Z",
     "shell.execute_reply": "2021-10-20T04:54:09.940503Z",
     "shell.execute_reply.started": "2021-10-17T16:34:47.640571Z"
    },
    "papermill": {
     "duration": 0.887358,
     "end_time": "2021-10-20T04:54:09.941739",
     "exception": false,
     "start_time": "2021-10-20T04:54:09.054381",
     "status": "completed"
    },
    "tags": []
   },
   "outputs": [],
   "source": [
    "import numpy as np\n",
    "import pandas as pd\n",
    "import matplotlib.pyplot as plt\n",
    "import seaborn as sns\n",
    "%matplotlib inline"
   ]
  },
  {
   "cell_type": "code",
   "execution_count": 2,
   "id": "d7f84bac",
   "metadata": {
    "execution": {
     "iopub.execute_input": "2021-10-20T04:54:09.980539Z",
     "iopub.status.busy": "2021-10-20T04:54:09.980037Z",
     "iopub.status.idle": "2021-10-20T04:54:10.000515Z",
     "shell.execute_reply": "2021-10-20T04:54:10.000105Z",
     "shell.execute_reply.started": "2021-10-17T16:28:49.150247Z"
    },
    "papermill": {
     "duration": 0.041134,
     "end_time": "2021-10-20T04:54:10.000630",
     "exception": false,
     "start_time": "2021-10-20T04:54:09.959496",
     "status": "completed"
    },
    "tags": []
   },
   "outputs": [],
   "source": [
    "df = pd.read_csv('data.csv')"
   ]
  },
  {
   "cell_type": "code",
   "execution_count": 3,
   "id": "ac63b48c",
   "metadata": {
    "execution": {
     "iopub.execute_input": "2021-10-20T04:54:10.043253Z",
     "iopub.status.busy": "2021-10-20T04:54:10.042493Z",
     "iopub.status.idle": "2021-10-20T04:54:10.059227Z",
     "shell.execute_reply": "2021-10-20T04:54:10.059624Z",
     "shell.execute_reply.started": "2021-10-17T16:28:53.394356Z"
    },
    "papermill": {
     "duration": 0.042193,
     "end_time": "2021-10-20T04:54:10.059776",
     "exception": false,
     "start_time": "2021-10-20T04:54:10.017583",
     "status": "completed"
    },
    "tags": []
   },
   "outputs": [
    {
     "data": {
      "text/html": [
       "<div>\n",
       "<style scoped>\n",
       "    .dataframe tbody tr th:only-of-type {\n",
       "        vertical-align: middle;\n",
       "    }\n",
       "\n",
       "    .dataframe tbody tr th {\n",
       "        vertical-align: top;\n",
       "    }\n",
       "\n",
       "    .dataframe thead th {\n",
       "        text-align: right;\n",
       "    }\n",
       "</style>\n",
       "<table border=\"1\" class=\"dataframe\">\n",
       "  <thead>\n",
       "    <tr style=\"text-align: right;\">\n",
       "      <th></th>\n",
       "      <th>Column1</th>\n",
       "      <th>Column2</th>\n",
       "      <th>Column3</th>\n",
       "      <th>Column4</th>\n",
       "      <th>Column5</th>\n",
       "      <th>Column6</th>\n",
       "      <th>Column7</th>\n",
       "    </tr>\n",
       "  </thead>\n",
       "  <tbody>\n",
       "    <tr>\n",
       "      <th>0</th>\n",
       "      <td>vhigh</td>\n",
       "      <td>vhigh</td>\n",
       "      <td>2</td>\n",
       "      <td>2</td>\n",
       "      <td>small</td>\n",
       "      <td>low</td>\n",
       "      <td>unacc</td>\n",
       "    </tr>\n",
       "    <tr>\n",
       "      <th>1</th>\n",
       "      <td>vhigh</td>\n",
       "      <td>vhigh</td>\n",
       "      <td>2</td>\n",
       "      <td>2</td>\n",
       "      <td>small</td>\n",
       "      <td>med</td>\n",
       "      <td>unacc</td>\n",
       "    </tr>\n",
       "    <tr>\n",
       "      <th>2</th>\n",
       "      <td>vhigh</td>\n",
       "      <td>vhigh</td>\n",
       "      <td>2</td>\n",
       "      <td>2</td>\n",
       "      <td>small</td>\n",
       "      <td>high</td>\n",
       "      <td>unacc</td>\n",
       "    </tr>\n",
       "    <tr>\n",
       "      <th>3</th>\n",
       "      <td>vhigh</td>\n",
       "      <td>vhigh</td>\n",
       "      <td>2</td>\n",
       "      <td>2</td>\n",
       "      <td>med</td>\n",
       "      <td>low</td>\n",
       "      <td>unacc</td>\n",
       "    </tr>\n",
       "    <tr>\n",
       "      <th>4</th>\n",
       "      <td>vhigh</td>\n",
       "      <td>vhigh</td>\n",
       "      <td>2</td>\n",
       "      <td>2</td>\n",
       "      <td>med</td>\n",
       "      <td>med</td>\n",
       "      <td>unacc</td>\n",
       "    </tr>\n",
       "  </tbody>\n",
       "</table>\n",
       "</div>"
      ],
      "text/plain": [
       "  Column1 Column2 Column3 Column4 Column5 Column6 Column7\n",
       "0   vhigh   vhigh       2       2   small     low   unacc\n",
       "1   vhigh   vhigh       2       2   small     med   unacc\n",
       "2   vhigh   vhigh       2       2   small    high   unacc\n",
       "3   vhigh   vhigh       2       2     med     low   unacc\n",
       "4   vhigh   vhigh       2       2     med     med   unacc"
      ]
     },
     "execution_count": 3,
     "metadata": {},
     "output_type": "execute_result"
    }
   ],
   "source": [
    "df.head()"
   ]
  },
  {
   "cell_type": "code",
   "execution_count": 4,
   "id": "4da1adc0",
   "metadata": {
    "execution": {
     "iopub.execute_input": "2021-10-20T04:54:10.101438Z",
     "iopub.status.busy": "2021-10-20T04:54:10.100611Z",
     "iopub.status.idle": "2021-10-20T04:54:10.102943Z",
     "shell.execute_reply": "2021-10-20T04:54:10.102507Z",
     "shell.execute_reply.started": "2021-10-17T16:28:57.672287Z"
    },
    "papermill": {
     "duration": 0.025089,
     "end_time": "2021-10-20T04:54:10.103063",
     "exception": false,
     "start_time": "2021-10-20T04:54:10.077974",
     "status": "completed"
    },
    "tags": []
   },
   "outputs": [],
   "source": [
    "df = df.rename(columns = {'Column1' : 'buying','Column2' : 'maint','Column3' : 'doors','Column4' : 'persons','Column5' : 'lug_boot','Column6' : 'safety','Column7' : 'Label'})"
   ]
  },
  {
   "cell_type": "code",
   "execution_count": 5,
   "id": "3fd63823",
   "metadata": {
    "execution": {
     "iopub.execute_input": "2021-10-20T04:54:10.148850Z",
     "iopub.status.busy": "2021-10-20T04:54:10.148182Z",
     "iopub.status.idle": "2021-10-20T04:54:10.150820Z",
     "shell.execute_reply": "2021-10-20T04:54:10.151233Z",
     "shell.execute_reply.started": "2021-10-17T16:29:17.8346Z"
    },
    "papermill": {
     "duration": 0.031029,
     "end_time": "2021-10-20T04:54:10.151352",
     "exception": false,
     "start_time": "2021-10-20T04:54:10.120323",
     "status": "completed"
    },
    "tags": []
   },
   "outputs": [
    {
     "data": {
      "text/html": [
       "<div>\n",
       "<style scoped>\n",
       "    .dataframe tbody tr th:only-of-type {\n",
       "        vertical-align: middle;\n",
       "    }\n",
       "\n",
       "    .dataframe tbody tr th {\n",
       "        vertical-align: top;\n",
       "    }\n",
       "\n",
       "    .dataframe thead th {\n",
       "        text-align: right;\n",
       "    }\n",
       "</style>\n",
       "<table border=\"1\" class=\"dataframe\">\n",
       "  <thead>\n",
       "    <tr style=\"text-align: right;\">\n",
       "      <th></th>\n",
       "      <th>buying</th>\n",
       "      <th>maint</th>\n",
       "      <th>doors</th>\n",
       "      <th>persons</th>\n",
       "      <th>lug_boot</th>\n",
       "      <th>safety</th>\n",
       "      <th>Label</th>\n",
       "    </tr>\n",
       "  </thead>\n",
       "  <tbody>\n",
       "    <tr>\n",
       "      <th>0</th>\n",
       "      <td>vhigh</td>\n",
       "      <td>vhigh</td>\n",
       "      <td>2</td>\n",
       "      <td>2</td>\n",
       "      <td>small</td>\n",
       "      <td>low</td>\n",
       "      <td>unacc</td>\n",
       "    </tr>\n",
       "    <tr>\n",
       "      <th>1</th>\n",
       "      <td>vhigh</td>\n",
       "      <td>vhigh</td>\n",
       "      <td>2</td>\n",
       "      <td>2</td>\n",
       "      <td>small</td>\n",
       "      <td>med</td>\n",
       "      <td>unacc</td>\n",
       "    </tr>\n",
       "    <tr>\n",
       "      <th>2</th>\n",
       "      <td>vhigh</td>\n",
       "      <td>vhigh</td>\n",
       "      <td>2</td>\n",
       "      <td>2</td>\n",
       "      <td>small</td>\n",
       "      <td>high</td>\n",
       "      <td>unacc</td>\n",
       "    </tr>\n",
       "    <tr>\n",
       "      <th>3</th>\n",
       "      <td>vhigh</td>\n",
       "      <td>vhigh</td>\n",
       "      <td>2</td>\n",
       "      <td>2</td>\n",
       "      <td>med</td>\n",
       "      <td>low</td>\n",
       "      <td>unacc</td>\n",
       "    </tr>\n",
       "    <tr>\n",
       "      <th>4</th>\n",
       "      <td>vhigh</td>\n",
       "      <td>vhigh</td>\n",
       "      <td>2</td>\n",
       "      <td>2</td>\n",
       "      <td>med</td>\n",
       "      <td>med</td>\n",
       "      <td>unacc</td>\n",
       "    </tr>\n",
       "  </tbody>\n",
       "</table>\n",
       "</div>"
      ],
      "text/plain": [
       "  buying  maint doors persons lug_boot safety  Label\n",
       "0  vhigh  vhigh     2       2    small    low  unacc\n",
       "1  vhigh  vhigh     2       2    small    med  unacc\n",
       "2  vhigh  vhigh     2       2    small   high  unacc\n",
       "3  vhigh  vhigh     2       2      med    low  unacc\n",
       "4  vhigh  vhigh     2       2      med    med  unacc"
      ]
     },
     "execution_count": 5,
     "metadata": {},
     "output_type": "execute_result"
    }
   ],
   "source": [
    "df.head()"
   ]
  },
  {
   "cell_type": "code",
   "execution_count": 6,
   "id": "7d0a1bed",
   "metadata": {
    "execution": {
     "iopub.execute_input": "2021-10-20T04:54:10.191508Z",
     "iopub.status.busy": "2021-10-20T04:54:10.190884Z",
     "iopub.status.idle": "2021-10-20T04:54:10.284264Z",
     "shell.execute_reply": "2021-10-20T04:54:10.284715Z",
     "shell.execute_reply.started": "2021-10-17T16:29:33.619259Z"
    },
    "papermill": {
     "duration": 0.114734,
     "end_time": "2021-10-20T04:54:10.284856",
     "exception": false,
     "start_time": "2021-10-20T04:54:10.170122",
     "status": "completed"
    },
    "tags": []
   },
   "outputs": [],
   "source": [
    "from sklearn.preprocessing import LabelEncoder"
   ]
  },
  {
   "cell_type": "code",
   "execution_count": 7,
   "id": "6c791769",
   "metadata": {
    "execution": {
     "iopub.execute_input": "2021-10-20T04:54:10.333542Z",
     "iopub.status.busy": "2021-10-20T04:54:10.325435Z",
     "iopub.status.idle": "2021-10-20T04:54:10.336729Z",
     "shell.execute_reply": "2021-10-20T04:54:10.336205Z",
     "shell.execute_reply.started": "2021-10-17T16:30:04.465707Z"
    },
    "papermill": {
     "duration": 0.034209,
     "end_time": "2021-10-20T04:54:10.336848",
     "exception": false,
     "start_time": "2021-10-20T04:54:10.302639",
     "status": "completed"
    },
    "tags": []
   },
   "outputs": [],
   "source": [
    "le=LabelEncoder()\n",
    "for i in df.columns:\n",
    "    df[i]=le.fit_transform(df[i])"
   ]
  },
  {
   "cell_type": "code",
   "execution_count": 8,
   "id": "a081601f",
   "metadata": {
    "execution": {
     "iopub.execute_input": "2021-10-20T04:54:10.375766Z",
     "iopub.status.busy": "2021-10-20T04:54:10.374944Z",
     "iopub.status.idle": "2021-10-20T04:54:10.384159Z",
     "shell.execute_reply": "2021-10-20T04:54:10.384527Z",
     "shell.execute_reply.started": "2021-10-17T16:30:15.465349Z"
    },
    "papermill": {
     "duration": 0.029728,
     "end_time": "2021-10-20T04:54:10.384649",
     "exception": false,
     "start_time": "2021-10-20T04:54:10.354921",
     "status": "completed"
    },
    "tags": []
   },
   "outputs": [
    {
     "data": {
      "text/html": [
       "<div>\n",
       "<style scoped>\n",
       "    .dataframe tbody tr th:only-of-type {\n",
       "        vertical-align: middle;\n",
       "    }\n",
       "\n",
       "    .dataframe tbody tr th {\n",
       "        vertical-align: top;\n",
       "    }\n",
       "\n",
       "    .dataframe thead th {\n",
       "        text-align: right;\n",
       "    }\n",
       "</style>\n",
       "<table border=\"1\" class=\"dataframe\">\n",
       "  <thead>\n",
       "    <tr style=\"text-align: right;\">\n",
       "      <th></th>\n",
       "      <th>buying</th>\n",
       "      <th>maint</th>\n",
       "      <th>doors</th>\n",
       "      <th>persons</th>\n",
       "      <th>lug_boot</th>\n",
       "      <th>safety</th>\n",
       "      <th>Label</th>\n",
       "    </tr>\n",
       "  </thead>\n",
       "  <tbody>\n",
       "    <tr>\n",
       "      <th>0</th>\n",
       "      <td>3</td>\n",
       "      <td>3</td>\n",
       "      <td>0</td>\n",
       "      <td>0</td>\n",
       "      <td>2</td>\n",
       "      <td>1</td>\n",
       "      <td>2</td>\n",
       "    </tr>\n",
       "    <tr>\n",
       "      <th>1</th>\n",
       "      <td>3</td>\n",
       "      <td>3</td>\n",
       "      <td>0</td>\n",
       "      <td>0</td>\n",
       "      <td>2</td>\n",
       "      <td>2</td>\n",
       "      <td>2</td>\n",
       "    </tr>\n",
       "    <tr>\n",
       "      <th>2</th>\n",
       "      <td>3</td>\n",
       "      <td>3</td>\n",
       "      <td>0</td>\n",
       "      <td>0</td>\n",
       "      <td>2</td>\n",
       "      <td>0</td>\n",
       "      <td>2</td>\n",
       "    </tr>\n",
       "    <tr>\n",
       "      <th>3</th>\n",
       "      <td>3</td>\n",
       "      <td>3</td>\n",
       "      <td>0</td>\n",
       "      <td>0</td>\n",
       "      <td>1</td>\n",
       "      <td>1</td>\n",
       "      <td>2</td>\n",
       "    </tr>\n",
       "    <tr>\n",
       "      <th>4</th>\n",
       "      <td>3</td>\n",
       "      <td>3</td>\n",
       "      <td>0</td>\n",
       "      <td>0</td>\n",
       "      <td>1</td>\n",
       "      <td>2</td>\n",
       "      <td>2</td>\n",
       "    </tr>\n",
       "  </tbody>\n",
       "</table>\n",
       "</div>"
      ],
      "text/plain": [
       "   buying  maint  doors  persons  lug_boot  safety  Label\n",
       "0       3      3      0        0         2       1      2\n",
       "1       3      3      0        0         2       2      2\n",
       "2       3      3      0        0         2       0      2\n",
       "3       3      3      0        0         1       1      2\n",
       "4       3      3      0        0         1       2      2"
      ]
     },
     "execution_count": 8,
     "metadata": {},
     "output_type": "execute_result"
    }
   ],
   "source": [
    "df.head()"
   ]
  },
  {
   "cell_type": "code",
   "execution_count": 9,
   "id": "3a41ffbc",
   "metadata": {
    "execution": {
     "iopub.execute_input": "2021-10-20T04:54:10.425846Z",
     "iopub.status.busy": "2021-10-20T04:54:10.425044Z",
     "iopub.status.idle": "2021-10-20T04:54:10.428138Z",
     "shell.execute_reply": "2021-10-20T04:54:10.428553Z",
     "shell.execute_reply.started": "2021-10-17T16:30:47.289396Z"
    },
    "papermill": {
     "duration": 0.025028,
     "end_time": "2021-10-20T04:54:10.428671",
     "exception": false,
     "start_time": "2021-10-20T04:54:10.403643",
     "status": "completed"
    },
    "tags": []
   },
   "outputs": [],
   "source": [
    "X=df[df.columns[:-1]]\n",
    "y=df['Label']"
   ]
  },
  {
   "cell_type": "code",
   "execution_count": 10,
   "id": "439da9cf",
   "metadata": {
    "execution": {
     "iopub.execute_input": "2021-10-20T04:54:10.468443Z",
     "iopub.status.busy": "2021-10-20T04:54:10.467886Z",
     "iopub.status.idle": "2021-10-20T04:54:10.513371Z",
     "shell.execute_reply": "2021-10-20T04:54:10.512933Z",
     "shell.execute_reply.started": "2021-10-17T16:31:06.408327Z"
    },
    "papermill": {
     "duration": 0.066712,
     "end_time": "2021-10-20T04:54:10.513475",
     "exception": false,
     "start_time": "2021-10-20T04:54:10.446763",
     "status": "completed"
    },
    "tags": []
   },
   "outputs": [],
   "source": [
    "from sklearn.model_selection import train_test_split\n",
    "X_train, X_test, y_train, y_test = train_test_split(X, y, test_size=0.2, random_state=42)"
   ]
  },
  {
   "cell_type": "markdown",
   "id": "95453ccf",
   "metadata": {
    "papermill": {
     "duration": 0.017843,
     "end_time": "2021-10-20T04:54:10.549366",
     "exception": false,
     "start_time": "2021-10-20T04:54:10.531523",
     "status": "completed"
    },
    "tags": []
   },
   "source": [
    "## Model Imports"
   ]
  },
  {
   "cell_type": "code",
   "execution_count": 11,
   "id": "cf6c27bc",
   "metadata": {
    "execution": {
     "iopub.execute_input": "2021-10-20T04:54:10.590021Z",
     "iopub.status.busy": "2021-10-20T04:54:10.589433Z",
     "iopub.status.idle": "2021-10-20T04:54:10.701822Z",
     "shell.execute_reply": "2021-10-20T04:54:10.701304Z",
     "shell.execute_reply.started": "2021-10-17T16:34:24.910295Z"
    },
    "papermill": {
     "duration": 0.134359,
     "end_time": "2021-10-20T04:54:10.701951",
     "exception": false,
     "start_time": "2021-10-20T04:54:10.567592",
     "status": "completed"
    },
    "tags": []
   },
   "outputs": [],
   "source": [
    "from sklearn.linear_model import LogisticRegression\n",
    "from sklearn.model_selection import learning_curve,cross_val_score\n",
    "from sklearn.metrics import classification_report, confusion_matrix\n",
    "from sklearn.neighbors import KNeighborsClassifier"
   ]
  },
  {
   "cell_type": "markdown",
   "id": "74014069",
   "metadata": {
    "papermill": {
     "duration": 0.018556,
     "end_time": "2021-10-20T04:54:10.738850",
     "exception": false,
     "start_time": "2021-10-20T04:54:10.720294",
     "status": "completed"
    },
    "tags": []
   },
   "source": [
    "### Logistic Regresion"
   ]
  },
  {
   "cell_type": "code",
   "execution_count": 12,
   "id": "f3732de1",
   "metadata": {
    "execution": {
     "iopub.execute_input": "2021-10-20T04:54:10.782094Z",
     "iopub.status.busy": "2021-10-20T04:54:10.781220Z",
     "iopub.status.idle": "2021-10-20T04:54:10.846162Z",
     "shell.execute_reply": "2021-10-20T04:54:10.845752Z",
     "shell.execute_reply.started": "2021-10-17T16:33:32.276317Z"
    },
    "papermill": {
     "duration": 0.088509,
     "end_time": "2021-10-20T04:54:10.846270",
     "exception": false,
     "start_time": "2021-10-20T04:54:10.757761",
     "status": "completed"
    },
    "tags": []
   },
   "outputs": [
    {
     "data": {
      "text/plain": [
       "LogisticRegression(multi_class='multinomial')"
      ]
     },
     "execution_count": 12,
     "metadata": {},
     "output_type": "execute_result"
    }
   ],
   "source": [
    "logreg=LogisticRegression(multi_class='multinomial')\n",
    "logreg.fit(X_train,y_train)"
   ]
  },
  {
   "cell_type": "code",
   "execution_count": 13,
   "id": "3201e9d2",
   "metadata": {
    "execution": {
     "iopub.execute_input": "2021-10-20T04:54:10.888734Z",
     "iopub.status.busy": "2021-10-20T04:54:10.887921Z",
     "iopub.status.idle": "2021-10-20T04:54:10.894150Z",
     "shell.execute_reply": "2021-10-20T04:54:10.894545Z",
     "shell.execute_reply.started": "2021-10-17T16:33:50.823987Z"
    },
    "papermill": {
     "duration": 0.030093,
     "end_time": "2021-10-20T04:54:10.894662",
     "exception": false,
     "start_time": "2021-10-20T04:54:10.864569",
     "status": "completed"
    },
    "tags": []
   },
   "outputs": [
    {
     "data": {
      "text/plain": [
       "0.6589595375722543"
      ]
     },
     "execution_count": 13,
     "metadata": {},
     "output_type": "execute_result"
    }
   ],
   "source": [
    "pred=logreg.predict(X_test)\n",
    "logreg.score(X_test,y_test)"
   ]
  },
  {
   "cell_type": "code",
   "execution_count": 14,
   "id": "54654924",
   "metadata": {
    "execution": {
     "iopub.execute_input": "2021-10-20T04:54:10.937843Z",
     "iopub.status.busy": "2021-10-20T04:54:10.937261Z",
     "iopub.status.idle": "2021-10-20T04:54:15.084897Z",
     "shell.execute_reply": "2021-10-20T04:54:15.084447Z",
     "shell.execute_reply.started": "2021-10-17T16:34:50.564095Z"
    },
    "papermill": {
     "duration": 4.171833,
     "end_time": "2021-10-20T04:54:15.085024",
     "exception": false,
     "start_time": "2021-10-20T04:54:10.913191",
     "status": "completed"
    },
    "tags": []
   },
   "outputs": [
    {
     "data": {
      "text/plain": [
       "[<matplotlib.lines.Line2D at 0x1568df33070>]"
      ]
     },
     "execution_count": 14,
     "metadata": {},
     "output_type": "execute_result"
    },
    {
     "data": {
      "image/png": "[encoded data removed]",
      "text/plain": [
       "<Figure size 864x576 with 1 Axes>"
      ]
     },
     "metadata": {
      "needs_background": "light"
     },
     "output_type": "display_data"
    }
   ],
   "source": [
    "\n",
    "lc=learning_curve(logreg,X_train,y_train,cv=10,n_jobs=-1)\n",
    "size=lc[0]\n",
    "train_score=[lc[1][i].mean() for i in range (0,5)]\n",
    "test_score=[lc[2][i].mean() for i in range (0,5)]\n",
    "fig=plt.figure(figsize=(12,8))\n",
    "plt.plot(size,train_score)\n",
    "plt.plot(size,test_score)"
   ]
  },
  {
   "cell_type": "code",
   "execution_count": 15,
   "id": "aa6680ff",
   "metadata": {
    "execution": {
     "iopub.execute_input": "2021-10-20T04:54:15.129761Z",
     "iopub.status.busy": "2021-10-20T04:54:15.128947Z",
     "iopub.status.idle": "2021-10-20T04:54:15.139917Z",
     "shell.execute_reply": "2021-10-20T04:54:15.140525Z",
     "shell.execute_reply.started": "2021-10-17T16:49:19.137389Z"
    },
    "papermill": {
     "duration": 0.035779,
     "end_time": "2021-10-20T04:54:15.140710",
     "exception": false,
     "start_time": "2021-10-20T04:54:15.104931",
     "status": "completed"
    },
    "tags": []
   },
   "outputs": [
    {
     "name": "stdout",
     "output_type": "stream",
     "text": [
      "              precision    recall  f1-score   support\n",
      "\n",
      "           0       0.26      0.13      0.18        83\n",
      "           1       0.00      0.00      0.00        11\n",
      "           2       0.72      0.92      0.81       235\n",
      "           3       0.00      0.00      0.00        17\n",
      "\n",
      "    accuracy                           0.66       346\n",
      "   macro avg       0.25      0.26      0.25       346\n",
      "weighted avg       0.55      0.66      0.59       346\n",
      "\n"
     ]
    },
    {
     "name": "stderr",
     "output_type": "stream",
     "text": [
      "C:\\Users\\SHEEL\\anaconda3\\envs\\tf2.4-gpu\\lib\\site-packages\\sklearn\\metrics\\_classification.py:1248: UndefinedMetricWarning: Precision and F-score are ill-defined and being set to 0.0 in labels with no predicted samples. Use `zero_division` parameter to control this behavior.\n",
      "  _warn_prf(average, modifier, msg_start, len(result))\n",
      "C:\\Users\\SHEEL\\anaconda3\\envs\\tf2.4-gpu\\lib\\site-packages\\sklearn\\metrics\\_classification.py:1248: UndefinedMetricWarning: Precision and F-score are ill-defined and being set to 0.0 in labels with no predicted samples. Use `zero_division` parameter to control this behavior.\n",
      "  _warn_prf(average, modifier, msg_start, len(result))\n",
      "C:\\Users\\SHEEL\\anaconda3\\envs\\tf2.4-gpu\\lib\\site-packages\\sklearn\\metrics\\_classification.py:1248: UndefinedMetricWarning: Precision and F-score are ill-defined and being set to 0.0 in labels with no predicted samples. Use `zero_division` parameter to control this behavior.\n",
      "  _warn_prf(average, modifier, msg_start, len(result))\n"
     ]
    }
   ],
   "source": [
    "print(classification_report(y_test,pred))"
   ]
  },
  {
   "cell_type": "markdown",
   "id": "5ffcc2e8",
   "metadata": {
    "papermill": {
     "duration": 0.020271,
     "end_time": "2021-10-20T04:54:15.182539",
     "exception": false,
     "start_time": "2021-10-20T04:54:15.162268",
     "status": "completed"
    },
    "tags": []
   },
   "source": [
    "### KNN Classifier"
   ]
  },
  {
   "cell_type": "code",
   "execution_count": 16,
   "id": "e1e985c3",
   "metadata": {
    "execution": {
     "iopub.execute_input": "2021-10-20T04:54:15.229959Z",
     "iopub.status.busy": "2021-10-20T04:54:15.229405Z",
     "iopub.status.idle": "2021-10-20T04:54:15.465176Z",
     "shell.execute_reply": "2021-10-20T04:54:15.464430Z",
     "shell.execute_reply.started": "2021-10-17T16:49:54.949139Z"
    },
    "papermill": {
     "duration": 0.262037,
     "end_time": "2021-10-20T04:54:15.465289",
     "exception": false,
     "start_time": "2021-10-20T04:54:15.203252",
     "status": "completed"
    },
    "tags": []
   },
   "outputs": [
    {
     "data": {
      "text/plain": [
       "0.8930635838150289"
      ]
     },
     "execution_count": 16,
     "metadata": {},
     "output_type": "execute_result"
    }
   ],
   "source": [
    "knn=KNeighborsClassifier(n_jobs=-1)\n",
    "knn.fit(X_train,y_train)\n",
    "pred=knn.predict(X_test)\n",
    "knn.score(X_test,y_test)"
   ]
  },
  {
   "cell_type": "code",
   "execution_count": 17,
   "id": "b9cc702f",
   "metadata": {
    "execution": {
     "iopub.execute_input": "2021-10-20T04:54:15.511879Z",
     "iopub.status.busy": "2021-10-20T04:54:15.510382Z",
     "iopub.status.idle": "2021-10-20T04:54:15.518425Z",
     "shell.execute_reply": "2021-10-20T04:54:15.517776Z",
     "shell.execute_reply.started": "2021-10-17T16:50:01.691253Z"
    },
    "papermill": {
     "duration": 0.032257,
     "end_time": "2021-10-20T04:54:15.518565",
     "exception": false,
     "start_time": "2021-10-20T04:54:15.486308",
     "status": "completed"
    },
    "tags": []
   },
   "outputs": [
    {
     "name": "stdout",
     "output_type": "stream",
     "text": [
      "              precision    recall  f1-score   support\n",
      "\n",
      "           0       0.86      0.75      0.80        83\n",
      "           1       0.60      0.55      0.57        11\n",
      "           2       0.91      1.00      0.96       235\n",
      "           3       0.86      0.35      0.50        17\n",
      "\n",
      "    accuracy                           0.89       346\n",
      "   macro avg       0.81      0.66      0.71       346\n",
      "weighted avg       0.89      0.89      0.88       346\n",
      "\n"
     ]
    }
   ],
   "source": [
    "print(classification_report(y_test,pred))"
   ]
  },
  {
   "cell_type": "markdown",
   "id": "90604126",
   "metadata": {
    "papermill": {
     "duration": 0.020828,
     "end_time": "2021-10-20T04:54:15.561016",
     "exception": false,
     "start_time": "2021-10-20T04:54:15.540188",
     "status": "completed"
    },
    "tags": []
   },
   "source": [
    "### Random Forest Classifier"
   ]
  },
  {
   "cell_type": "code",
   "execution_count": 18,
   "id": "69e6ab19",
   "metadata": {
    "execution": {
     "iopub.execute_input": "2021-10-20T04:54:15.606660Z",
     "iopub.status.busy": "2021-10-20T04:54:15.605994Z",
     "iopub.status.idle": "2021-10-20T04:54:15.648767Z",
     "shell.execute_reply": "2021-10-20T04:54:15.648333Z",
     "shell.execute_reply.started": "2021-10-17T16:50:41.439916Z"
    },
    "papermill": {
     "duration": 0.06669,
     "end_time": "2021-10-20T04:54:15.648881",
     "exception": false,
     "start_time": "2021-10-20T04:54:15.582191",
     "status": "completed"
    },
    "tags": []
   },
   "outputs": [],
   "source": [
    "from sklearn.ensemble import RandomForestClassifier"
   ]
  },
  {
   "cell_type": "code",
   "execution_count": 19,
   "id": "ef3bc5b4",
   "metadata": {
    "execution": {
     "iopub.execute_input": "2021-10-20T04:54:15.695209Z",
     "iopub.status.busy": "2021-10-20T04:54:15.694459Z",
     "iopub.status.idle": "2021-10-20T04:54:15.696419Z",
     "shell.execute_reply": "2021-10-20T04:54:15.696885Z",
     "shell.execute_reply.started": "2021-10-17T16:50:49.181376Z"
    },
    "papermill": {
     "duration": 0.027136,
     "end_time": "2021-10-20T04:54:15.697014",
     "exception": false,
     "start_time": "2021-10-20T04:54:15.669878",
     "status": "completed"
    },
    "tags": []
   },
   "outputs": [],
   "source": [
    "rfc=RandomForestClassifier(n_jobs=-1,random_state=42)"
   ]
  },
  {
   "cell_type": "code",
   "execution_count": 20,
   "id": "f9b53c50",
   "metadata": {
    "execution": {
     "iopub.execute_input": "2021-10-20T04:54:15.744347Z",
     "iopub.status.busy": "2021-10-20T04:54:15.743583Z",
     "iopub.status.idle": "2021-10-20T04:54:16.097057Z",
     "shell.execute_reply": "2021-10-20T04:54:16.097595Z",
     "shell.execute_reply.started": "2021-10-17T16:51:24.887275Z"
    },
    "papermill": {
     "duration": 0.379925,
     "end_time": "2021-10-20T04:54:16.097797",
     "exception": false,
     "start_time": "2021-10-20T04:54:15.717872",
     "status": "completed"
    },
    "tags": []
   },
   "outputs": [
    {
     "name": "stdout",
     "output_type": "stream",
     "text": [
      "0.9739884393063584\n"
     ]
    }
   ],
   "source": [
    "rfc.fit(X_train,y_train)\n",
    "print(rfc.score(X_test,y_test))"
   ]
  },
  {
   "cell_type": "code",
   "execution_count": 21,
   "id": "5121523f",
   "metadata": {
    "execution": {
     "iopub.execute_input": "2021-10-20T04:54:16.147261Z",
     "iopub.status.busy": "2021-10-20T04:54:16.146550Z",
     "iopub.status.idle": "2021-10-20T04:54:16.250252Z",
     "shell.execute_reply": "2021-10-20T04:54:16.250805Z",
     "shell.execute_reply.started": "2021-10-17T16:51:52.780036Z"
    },
    "papermill": {
     "duration": 0.130577,
     "end_time": "2021-10-20T04:54:16.250941",
     "exception": false,
     "start_time": "2021-10-20T04:54:16.120364",
     "status": "completed"
    },
    "tags": []
   },
   "outputs": [],
   "source": [
    "pred=rfc.predict(X_test)"
   ]
  },
  {
   "cell_type": "code",
   "execution_count": null,
   "id": "08f09da0",
   "metadata": {},
   "outputs": [],
   "source": []
  },
  {
   "cell_type": "code",
   "execution_count": 22,
   "id": "3414d576",
   "metadata": {
    "execution": {
     "iopub.execute_input": "2021-10-20T04:54:16.298213Z",
     "iopub.status.busy": "2021-10-20T04:54:16.297408Z",
     "iopub.status.idle": "2021-10-20T04:54:16.304736Z",
     "shell.execute_reply": "2021-10-20T04:54:16.305265Z",
     "shell.execute_reply.started": "2021-10-17T16:52:02.081589Z"
    },
    "papermill": {
     "duration": 0.033126,
     "end_time": "2021-10-20T04:54:16.305427",
     "exception": false,
     "start_time": "2021-10-20T04:54:16.272301",
     "status": "completed"
    },
    "tags": []
   },
   "outputs": [
    {
     "name": "stdout",
     "output_type": "stream",
     "text": [
      "              precision    recall  f1-score   support\n",
      "\n",
      "           0       0.99      0.90      0.94        83\n",
      "           1       0.65      1.00      0.79        11\n",
      "           2       0.99      1.00      1.00       235\n",
      "           3       1.00      0.94      0.97        17\n",
      "\n",
      "    accuracy                           0.97       346\n",
      "   macro avg       0.91      0.96      0.92       346\n",
      "weighted avg       0.98      0.97      0.98       346\n",
      "\n"
     ]
    }
   ],
   "source": [
    "print(classification_report(y_test,pred))"
   ]
  },
  {
   "cell_type": "code",
   "execution_count": 30,
   "id": "c7c7a0ac",
   "metadata": {
    "papermill": {
     "duration": 0.02118,
     "end_time": "2021-10-20T04:54:16.348908",
     "exception": false,
     "start_time": "2021-10-20T04:54:16.327728",
     "status": "completed"
    },
    "tags": []
   },
   "outputs": [],
   "source": [
    "import pickle \n",
    "pickle_out = open(\"classifier.pkl\", mode = \"wb\") \n",
    "pickle.dump(rfc, pickle_out) \n",
    "pickle_out.close()"
   ]
  },
  {
   "cell_type": "code",
   "execution_count": 31,
   "id": "56ed7113",
   "metadata": {},
   "outputs": [
    {
     "data": {
      "text/plain": [
       "2    1210\n",
       "0     384\n",
       "1      69\n",
       "3      65\n",
       "Name: Label, dtype: int64"
      ]
     },
     "execution_count": 31,
     "metadata": {},
     "output_type": "execute_result"
    }
   ],
   "source": [
    "df['Label'].value_counts()"
   ]
  },
  {
   "cell_type": "code",
   "execution_count": null,
   "id": "41ba91c2",
   "metadata": {},
   "outputs": [],
   "source": []
  }
 ],
 "metadata": {
  "kernelspec": {
   "display_name": "Python 3",
   "language": "python",
   "name": "python3"
  },
  "language_info": {
   "codemirror_mode": {
    "name": "ipython",
    "version": 3
   },
   "file_extension": ".py",
   "mimetype": "text/x-python",
   "name": "python",
   "nbconvert_exporter": "python",
   "pygments_lexer": "ipython3",
   "version": "3.8.0"
  },
  "papermill": {
   "default_parameters": {},
   "duration": 15.663599,
   "end_time": "2021-10-20T04:54:17.690813",
   "environment_variables": {},
   "exception": null,
   "input_path": "__notebook__.ipynb",
   "output_path": "__notebook__.ipynb",
   "parameters": {},
   "start_time": "2021-10-20T04:54:02.027214",
   "version": "2.3.3"
  }
 },
 "nbformat": 4,
 "nbformat_minor": 5
}
